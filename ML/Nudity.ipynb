{
 "cells": [
  {
   "cell_type": "code",
   "execution_count": 4,
   "metadata": {},
   "outputs": [
    {
     "ename": "ImportError",
     "evalue": "cannot import name 'exists' from 'os' (c:\\Users\\HP\\AppData\\Local\\Programs\\Python\\Python310\\lib\\os.py)",
     "output_type": "error",
     "traceback": [
      "\u001b[1;31m---------------------------------------------------------------------------\u001b[0m",
      "\u001b[1;31mImportError\u001b[0m                               Traceback (most recent call last)",
      "\u001b[1;32mc:\\Users\\HP\\OneDrive\\Desktop\\Nudity-Detection-Model-Not-safe-for-work-NSFW-\\Nudity.ipynb Cell 1\u001b[0m line \u001b[0;36m2\n\u001b[0;32m      <a href='vscode-notebook-cell:/c%3A/Users/HP/OneDrive/Desktop/Nudity-Detection-Model-Not-safe-for-work-NSFW-/Nudity.ipynb#W0sZmlsZQ%3D%3D?line=0'>1</a>\u001b[0m \u001b[39mimport\u001b[39;00m \u001b[39mjson\u001b[39;00m\n\u001b[1;32m----> <a href='vscode-notebook-cell:/c%3A/Users/HP/OneDrive/Desktop/Nudity-Detection-Model-Not-safe-for-work-NSFW-/Nudity.ipynb#W0sZmlsZQ%3D%3D?line=1'>2</a>\u001b[0m \u001b[39mfrom\u001b[39;00m \u001b[39mos\u001b[39;00m \u001b[39mimport\u001b[39;00m exists, isfile\n\u001b[0;32m      <a href='vscode-notebook-cell:/c%3A/Users/HP/OneDrive/Desktop/Nudity-Detection-Model-Not-safe-for-work-NSFW-/Nudity.ipynb#W0sZmlsZQ%3D%3D?line=2'>3</a>\u001b[0m \u001b[39mfrom\u001b[39;00m \u001b[39mos\u001b[39;00m\u001b[39m.\u001b[39;00m\u001b[39mpath\u001b[39;00m \u001b[39mimport\u001b[39;00m abspath, isdir, join\n\u001b[0;32m      <a href='vscode-notebook-cell:/c%3A/Users/HP/OneDrive/Desktop/Nudity-Detection-Model-Not-safe-for-work-NSFW-/Nudity.ipynb#W0sZmlsZQ%3D%3D?line=3'>4</a>\u001b[0m \u001b[39mimport\u001b[39;00m \u001b[39mnumpy\u001b[39;00m \u001b[39mas\u001b[39;00m \u001b[39mnp\u001b[39;00m\n",
      "\u001b[1;31mImportError\u001b[0m: cannot import name 'exists' from 'os' (c:\\Users\\HP\\AppData\\Local\\Programs\\Python\\Python310\\lib\\os.py)"
     ]
    }
   ],
   "source": [
    "import json\n",
    "from os import exists, isfile\n",
    "from os.path import abspath, isdir, join\n",
    "import numpy as np\n",
    "import tensorflow as tf\n",
    "from tensorflow import keras\n",
    "import tensorflow_hub as hub\n",
    "from pdf2image import convert_from_path\n",
    "\n",
    "IMAGE_DIM = 224  # required/default image dimensionality\n",
    "\n",
    "def load_images_from_pdf(pdf_path, image_size, verbose=True):\n",
    "    '''\n",
    "    Function for loading images from a PDF file into numpy arrays for passing to model.predict.\n",
    "    inputs:\n",
    "        pdf_path: path to the PDF file to be processed\n",
    "        image_size: size into which images should be resized\n",
    "        verbose: show all of the image path and sizes loaded\n",
    "\n",
    "    outputs:\n",
    "        loaded_images: loaded images on which the Keras model can run predictions\n",
    "        loaded_image_paths: paths of images which the function is able to process\n",
    "    '''\n",
    "    loaded_images = []\n",
    "    loaded_image_paths = []\n",
    "\n",
    "    images = convert_from_path(pdf_path)\n",
    "    for i, image in enumerate(images):\n",
    "        img_path = f'page_{i + 1}.jpg'\n",
    "        try:\n",
    "            if verbose:\n",
    "                print(img_path, \"size:\", image_size)\n",
    "            image = keras.preprocessing.image.array_to_img(image)\n",
    "            image = keras.preprocessing.image.img_to_array(image)\n",
    "            image /= 255\n",
    "            loaded_images.append(image)\n",
    "            loaded_image_paths.append(img_path)\n",
    "        except Exception as ex:\n",
    "            print(\"Image Load Failure: \", img_path, ex)\n",
    "\n",
    "    return np.asarray(loaded_images), loaded_image_paths\n",
    "import requests\n",
    "from pdf2image import convert_from_path\n",
    "import os\n",
    "\n",
    "# Replace with the path to your PDF file\n",
    "pdf_path = 'onepiece.pdf'\n",
    "\n",
    "# Convert the PDF to images\n",
    "images = convert_from_path(pdf_path)\n",
    "\n",
    "\n",
    "\n",
    "for i, image in enumerate(images):\n",
    "    image.save('page_{:02d}.jpg'.format(i))  # Save the image as a JPEG\n",
    "\n",
    "    files = {'file': open('page_{:02d}.jpg'.format(i), 'rb')}\n",
    "    response = requests.post(api_url, files=files)\n",
    "\n",
    "    print(f\"Page {i + 1} - NSFW Detection Result:\\n{response.json()}\\n\")\n",
    "    \n",
    "def main():\n",
    "    pdf_path = \"onepiece.pdf\"  # Replace with the path to your PDF file\n",
    "    model = load_model(\"Nudity-Detection-Model.h5\")\n",
    "    images, image_paths = load_images_from_pdf(pdf_path, IMAGE_DIM)\n",
    "    image_preds = classify(model, images, IMAGE_DIM)\n",
    "    result = dict(zip(image_paths, image_preds))\n",
    "    print(json.dumps(result, indent=2), '\\n')\n",
    "\n",
    "if __name__ == \"__main__\":\n",
    "    main()\n"
   ]
  }
 ],
 "metadata": {
  "kernelspec": {
   "display_name": "Python 3",
   "language": "python",
   "name": "python3"
  },
  "language_info": {
   "codemirror_mode": {
    "name": "ipython",
    "version": 3
   },
   "file_extension": ".py",
   "mimetype": "text/x-python",
   "name": "python",
   "nbconvert_exporter": "python",
   "pygments_lexer": "ipython3",
   "version": "3.10.9"
  }
 },
 "nbformat": 4,
 "nbformat_minor": 2
}
